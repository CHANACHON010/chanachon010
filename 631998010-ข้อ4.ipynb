{
 "cells": [
  {
   "cell_type": "code",
   "execution_count": 25,
   "id": "0eacd39d",
   "metadata": {},
   "outputs": [
    {
     "name": "stdout",
     "output_type": "stream",
     "text": [
      "Perfect BST of gliven height:\n",
      " \n",
      "  __2__\n",
      " /     \\\n",
      "0       4__\n",
      " \\     /   \\\n",
      "  1   3     13\n",
      "           /  \\\n",
      "          6    14\n",
      "\n",
      "The sum of the subtrees on the left: 1\n",
      "The sum of the subtrees on the rightt: 40\n",
      "The difference is equal to 39\n"
     ]
    }
   ],
   "source": [
    "from binarytree import  bst\n",
    "binary = bst(height = 3)\n",
    "print('Perfect BST of gliven height:\\n',binary)\n",
    "\n",
    "def DifferentTree(binary):\n",
    "     if binary :\n",
    "        return DifferentTree(binary .left) + int(binary .value) + DifferentTree(binary.right)\n",
    "     else:\n",
    "        return 0\n",
    "print(\"The sum of the subtrees on the left:\" , DifferentTree(binary.left))\n",
    "print(\"The sum of the subtrees on the rightt:\" , DifferentTree(binary.right))\n",
    "print(\"The difference is equal to\" , DifferentTree(binary.right)- DifferentTree(binary.left))\n"
   ]
  },
  {
   "cell_type": "code",
   "execution_count": null,
   "id": "c44a39f1",
   "metadata": {},
   "outputs": [],
   "source": []
  },
  {
   "cell_type": "code",
   "execution_count": null,
   "id": "5e352721",
   "metadata": {},
   "outputs": [],
   "source": []
  },
  {
   "cell_type": "code",
   "execution_count": null,
   "id": "eb6ca951",
   "metadata": {},
   "outputs": [],
   "source": []
  },
  {
   "cell_type": "code",
   "execution_count": null,
   "id": "c3cb5e32",
   "metadata": {},
   "outputs": [],
   "source": []
  },
  {
   "cell_type": "code",
   "execution_count": null,
   "id": "fb6beb70",
   "metadata": {},
   "outputs": [],
   "source": []
  }
 ],
 "metadata": {
  "kernelspec": {
   "display_name": "Python 3",
   "language": "python",
   "name": "python3"
  },
  "language_info": {
   "codemirror_mode": {
    "name": "ipython",
    "version": 3
   },
   "file_extension": ".py",
   "mimetype": "text/x-python",
   "name": "python",
   "nbconvert_exporter": "python",
   "pygments_lexer": "ipython3",
   "version": "3.8.8"
  }
 },
 "nbformat": 4,
 "nbformat_minor": 5
}
