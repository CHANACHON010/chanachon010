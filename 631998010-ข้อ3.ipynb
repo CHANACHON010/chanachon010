{
 "cells": [
  {
   "cell_type": "code",
   "execution_count": 24,
   "id": "a30a8fc5",
   "metadata": {},
   "outputs": [
    {
     "name": "stdout",
     "output_type": "stream",
     "text": [
      "binary tree : \n",
      "      ______10___\n",
      "     /           \\\n",
      "  __4__          _14\n",
      " /     \\        /\n",
      "0       6      11\n",
      " \\     / \\\n",
      "  2   5   9\n",
      "\n",
      "3.1. tree surfing Preorder, Inorder, Postorder\n",
      "Preoder of nodes : [Node(10), Node(4), Node(0), Node(2), Node(6), Node(5), Node(9), Node(14), Node(11)]\n",
      "Inorder of nodes : [Node(0), Node(2), Node(4), Node(5), Node(6), Node(9), Node(10), Node(11), Node(14)]\n",
      "Preoder of nodes : [Node(10), Node(4), Node(0), Node(2), Node(6), Node(5), Node(9), Node(14), Node(11)]\n",
      "3.2. Displays the height of the tree and the number of tree nodes\n",
      "Height of tree: 3\n",
      "Size of tree: 9\n"
     ]
    }
   ],
   "source": [
    "from binarytree import Node , bst\n",
    "root = bst(height = 3)\n",
    "print('binary tree :',root)\n",
    "print('3.1. tree surfing Preorder, Inorder, Postorder' )\n",
    "print('Preoder of nodes :',root.preorder)\n",
    "print('Inorder of nodes :',root.inorder)\n",
    "print('Preoder of nodes :',root.preorder)\n",
    "print('3.2. Displays the height of the tree and the number of tree nodes')\n",
    "print('Height of tree:',root.height)\n",
    "print('Size of tree:',root.size)\n"
   ]
  },
  {
   "cell_type": "code",
   "execution_count": null,
   "id": "761ea80e",
   "metadata": {},
   "outputs": [],
   "source": [
    "\n",
    "\n",
    "\n",
    "\n",
    "\n",
    "\n",
    "\n",
    "\n",
    "\n",
    "\n",
    "\n",
    "\n",
    "\n",
    "\n"
   ]
  },
  {
   "cell_type": "code",
   "execution_count": null,
   "id": "ac20ac27",
   "metadata": {},
   "outputs": [],
   "source": []
  },
  {
   "cell_type": "code",
   "execution_count": null,
   "id": "c9642074",
   "metadata": {},
   "outputs": [],
   "source": []
  },
  {
   "cell_type": "code",
   "execution_count": null,
   "id": "0bca138e",
   "metadata": {},
   "outputs": [],
   "source": []
  },
  {
   "cell_type": "code",
   "execution_count": null,
   "id": "02f11690",
   "metadata": {},
   "outputs": [],
   "source": []
  }
 ],
 "metadata": {
  "kernelspec": {
   "display_name": "Python 3",
   "language": "python",
   "name": "python3"
  },
  "language_info": {
   "codemirror_mode": {
    "name": "ipython",
    "version": 3
   },
   "file_extension": ".py",
   "mimetype": "text/x-python",
   "name": "python",
   "nbconvert_exporter": "python",
   "pygments_lexer": "ipython3",
   "version": "3.8.8"
  }
 },
 "nbformat": 4,
 "nbformat_minor": 5
}
